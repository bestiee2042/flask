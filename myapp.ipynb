{
 "cells": [
  {
   "cell_type": "code",
   "execution_count": 387,
   "metadata": {
    "collapsed": true
   },
   "outputs": [],
   "source": [
    "import pandas as pd\n",
    "\n",
    "import time"
   ]
  },
  {
   "cell_type": "code",
   "execution_count": 155,
   "metadata": {
    "collapsed": false
   },
   "outputs": [],
   "source": [
    "data1=pd.read_csv(\"file1.csv\")\n",
    "data2=pd.read_csv(\"file2.csv\")"
   ]
  },
  {
   "cell_type": "code",
   "execution_count": 198,
   "metadata": {
    "collapsed": false
   },
   "outputs": [],
   "source": [
    "import csv\n",
    "reader = csv.reader(open(\"file1.csv\", encoding=\"utf8\"))\n",
    "reader1 = csv.reader(open(\"file2.csv\", encoding=\"utf8\"))\n",
    "f = open(\"combined.csv\", \"w\", encoding=\"utf8\")\n",
    "writer = csv.writer(f)\n",
    "\n",
    "for row in reader:\n",
    "    writer.writerow(row)\n",
    "for row in reader1:\n",
    "    writer.writerow(row)\n",
    "f.close()"
   ]
  },
  {
   "cell_type": "code",
   "execution_count": 225,
   "metadata": {
    "collapsed": false
   },
   "outputs": [],
   "source": [
    "data2=pd.read_csv(\"combined.csv\")\n"
   ]
  },
  {
   "cell_type": "code",
   "execution_count": 422,
   "metadata": {
    "collapsed": false
   },
   "outputs": [
    {
     "data": {
      "text/html": [
       "<div>\n",
       "<style scoped>\n",
       "    .dataframe tbody tr th:only-of-type {\n",
       "        vertical-align: middle;\n",
       "    }\n",
       "\n",
       "    .dataframe tbody tr th {\n",
       "        vertical-align: top;\n",
       "    }\n",
       "\n",
       "    .dataframe thead th {\n",
       "        text-align: right;\n",
       "    }\n",
       "</style>\n",
       "<table border=\"1\" class=\"dataframe\">\n",
       "  <thead>\n",
       "    <tr style=\"text-align: right;\">\n",
       "      <th></th>\n",
       "      <th>date</th>\n",
       "      <th>time</th>\n",
       "      <th>from</th>\n",
       "      <th>msg</th>\n",
       "    </tr>\n",
       "  </thead>\n",
       "  <tbody>\n",
       "    <tr>\n",
       "      <td>0</td>\n",
       "      <td>13/06/18</td>\n",
       "      <td>11:13</td>\n",
       "      <td>Bestiee</td>\n",
       "      <td>Aa Video send chey</td>\n",
       "    </tr>\n",
       "    <tr>\n",
       "      <td>1</td>\n",
       "      <td>13/06/18</td>\n",
       "      <td>11:17</td>\n",
       "      <td>me</td>\n",
       "      <td>Haan it will take some time</td>\n",
       "    </tr>\n",
       "    <tr>\n",
       "      <td>2</td>\n",
       "      <td>13/06/18</td>\n",
       "      <td>11:17</td>\n",
       "      <td>Bestiee</td>\n",
       "      <td>Haa kk</td>\n",
       "    </tr>\n",
       "    <tr>\n",
       "      <td>3</td>\n",
       "      <td>13/06/18</td>\n",
       "      <td>11:17</td>\n",
       "      <td>Bestiee</td>\n",
       "      <td>No problem</td>\n",
       "    </tr>\n",
       "    <tr>\n",
       "      <td>4</td>\n",
       "      <td>13/06/18</td>\n",
       "      <td>11:19</td>\n",
       "      <td>me</td>\n",
       "      <td>&lt;Media omitted&gt;</td>\n",
       "    </tr>\n",
       "    <tr>\n",
       "      <td>...</td>\n",
       "      <td>...</td>\n",
       "      <td>...</td>\n",
       "      <td>...</td>\n",
       "      <td>...</td>\n",
       "    </tr>\n",
       "    <tr>\n",
       "      <td>62223</td>\n",
       "      <td>10/4/19</td>\n",
       "      <td>10:47</td>\n",
       "      <td>me</td>\n",
       "      <td>Vachesindi 🤩</td>\n",
       "    </tr>\n",
       "    <tr>\n",
       "      <td>62224</td>\n",
       "      <td>1/9/20</td>\n",
       "      <td>00:12</td>\n",
       "      <td>me</td>\n",
       "      <td>Happy Birthday  Rama garu</td>\n",
       "    </tr>\n",
       "    <tr>\n",
       "      <td>62225</td>\n",
       "      <td>1/9/20</td>\n",
       "      <td>00:13</td>\n",
       "      <td>me</td>\n",
       "      <td>🤩🥳💃</td>\n",
       "    </tr>\n",
       "    <tr>\n",
       "      <td>62226</td>\n",
       "      <td>1/9/20</td>\n",
       "      <td>08:43</td>\n",
       "      <td>me</td>\n",
       "      <td>Oyy</td>\n",
       "    </tr>\n",
       "    <tr>\n",
       "      <td>62227</td>\n",
       "      <td>1/12/20</td>\n",
       "      <td>15:58</td>\n",
       "      <td>Bestiee</td>\n",
       "      <td>Tqqq</td>\n",
       "    </tr>\n",
       "  </tbody>\n",
       "</table>\n",
       "<p>62228 rows × 4 columns</p>\n",
       "</div>"
      ],
      "text/plain": [
       "            date      time      from                          msg  \n",
       "0      13/06/18   11:13     Bestiee            Aa Video send chey  \n",
       "1      13/06/18   11:17          me   Haan it will take some time  \n",
       "2      13/06/18   11:17     Bestiee                        Haa kk  \n",
       "3      13/06/18   11:17     Bestiee                    No problem  \n",
       "4      13/06/18   11:19          me               <Media omitted>  \n",
       "...          ...       ...       ...                            ...\n",
       "62223    10/4/19    10:47         me                   Vachesindi 🤩\n",
       "62224     1/9/20    00:12         me      Happy Birthday  Rama garu\n",
       "62225     1/9/20    00:13         me                            🤩🥳💃\n",
       "62226     1/9/20    08:43         me                            Oyy\n",
       "62227    1/12/20    15:58    Bestiee                           Tqqq\n",
       "\n",
       "[62228 rows x 4 columns]"
      ]
     },
     "execution_count": 422,
     "metadata": {},
     "output_type": "execute_result"
    }
   ],
   "source": [
    "import csv\n",
    "data2=pd.read_csv(\"combined.csv\")\n",
    "data2\n",
    "# data2=data2.values.tolist()\n",
    "# def fun(send):\n",
    "#     try:\n",
    "#         i=0\n",
    "#         for data in data2:\n",
    "#             i=i+1\n",
    "#             if send in data[3]: \n",
    "#                 if(data2[i][2]==\"Bestiee \"):\n",
    "# #                     print(data2[i],i+1)\n",
    "#                     return data2[i]\n",
    "\n",
    "#     except:\n",
    "#             pass\n",
    "\n",
    "        \n",
    "# print(fun(\"inkenti\"))\n",
    "\n",
    "\n",
    "\n"
   ]
  },
  {
   "cell_type": "code",
   "execution_count": 421,
   "metadata": {
    "collapsed": false
   },
   "outputs": [
    {
     "name": "stdout",
     "output_type": "stream",
     "text": [
      "25/02/2020 11:08\n"
     ]
    }
   ],
   "source": [
    "from datetime import datetime\n",
    "\n",
    "now = datetime.now()\n",
    "\n",
    "print(now.strftime('%d/%m/%Y %I:%M'))"
   ]
  },
  {
   "cell_type": "code",
   "execution_count": null,
   "metadata": {
    "collapsed": true
   },
   "outputs": [],
   "source": [
    "# auto generate the messages daily\n"
   ]
  }
 ],
 "metadata": {
  "anaconda-cloud": {},
  "kernelspec": {
   "display_name": "Python 3.7.4 64-bit",
   "language": "python",
   "name": "python37464bitc0631001cd114c9fbfacdf929b0ed577"
  },
  "language_info": {
   "codemirror_mode": {
    "name": "ipython",
    "version": 3
   },
   "file_extension": ".py",
   "mimetype": "text/x-python",
   "name": "python",
   "nbconvert_exporter": "python",
   "pygments_lexer": "ipython3",
   "version": "3.7.4"
  }
 },
 "nbformat": 4,
 "nbformat_minor": 1
}
