{
 "cells": [
  {
   "cell_type": "code",
   "execution_count": 387,
   "metadata": {
    "collapsed": true
   },
   "outputs": [],
   "source": [
    "import pandas as pd\n",
    "\n",
    "import time"
   ]
  },
  {
   "cell_type": "code",
   "execution_count": 155,
   "metadata": {
    "collapsed": false
   },
   "outputs": [],
   "source": [
    "data1=pd.read_csv(\"file1.csv\")\n",
    "data2=pd.read_csv(\"file2.csv\")"
   ]
  },
  {
   "cell_type": "code",
   "execution_count": 198,
   "metadata": {
    "collapsed": false
   },
   "outputs": [],
   "source": [
    "import csv\n",
    "reader = csv.reader(open(\"file1.csv\", encoding=\"utf8\"))\n",
    "reader1 = csv.reader(open(\"file2.csv\", encoding=\"utf8\"))\n",
    "f = open(\"combined.csv\", \"w\", encoding=\"utf8\")\n",
    "writer = csv.writer(f)\n",
    "\n",
    "for row in reader:\n",
    "    writer.writerow(row)\n",
    "for row in reader1:\n",
    "    writer.writerow(row)\n",
    "f.close()"
   ]
  },
  {
   "cell_type": "code",
   "execution_count": 225,
   "metadata": {
    "collapsed": false
   },
   "outputs": [],
   "source": [
    "data2=pd.read_csv(\"combined.csv\")\n"
   ]
  },
  {
   "cell_type": "code",
   "execution_count": 367,
   "metadata": {
    "collapsed": false
   },
   "outputs": [
    {
     "name": "stdout",
     "output_type": "stream",
     "text": [
      "['26/07/18 ', '8:33 pm  ', 'Bestiee ', 'Tinnava  ']\n"
     ]
    }
   ],
   "source": [
    "import csv\n",
    "data2=pd.read_csv(\"combined.csv\")\n",
    "data2=data2.values.tolist()\n",
    "def fun(send):\n",
    "    try:\n",
    "        i=0\n",
    "        for data in data2:\n",
    "            i=i+1\n",
    "            if send in data[3]: \n",
    "                if(data2[i][2]==\"Bestiee \"):\n",
    "#                     print(data2[i],i+1)\n",
    "                    return data2[i]\n",
    "\n",
    "    except:\n",
    "            pass\n",
    "\n",
    "        \n",
    "print(fun(\"inkenti\"))\n",
    "\n",
    "\n",
    "\n"
   ]
  },
  {
   "cell_type": "code",
   "execution_count": 420,
   "metadata": {
    "collapsed": false
   },
   "outputs": [
    {
     "name": "stdout",
     "output_type": "stream",
     "text": [
      "2020/02/25 11:08\n"
     ]
    }
   ],
   "source": [
    "from datetime import datetime\n",
    "\n",
    "now = datetime.now()\n",
    "\n",
    "print(now.strftime('%d/%m/%Y %I:%M'))"
   ]
  },
  {
   "cell_type": "code",
   "execution_count": null,
   "metadata": {
    "collapsed": true
   },
   "outputs": [],
   "source": [
    "# auto generate the messages daily\n"
   ]
  }
 ],
 "metadata": {
  "anaconda-cloud": {},
  "kernelspec": {
   "display_name": "Python 3.7.4 64-bit",
   "language": "python",
   "name": "python37464bitc0631001cd114c9fbfacdf929b0ed577"
  },
  "language_info": {
   "codemirror_mode": {
    "name": "ipython",
    "version": 3
   },
   "file_extension": ".py",
   "mimetype": "text/x-python",
   "name": "python",
   "nbconvert_exporter": "python",
   "pygments_lexer": "ipython3",
   "version": "3.7.4"
  }
 },
 "nbformat": 4,
 "nbformat_minor": 1
}
